{
 "cells": [
  {
   "cell_type": "code",
   "execution_count": 15,
   "metadata": {
    "collapsed": false
   },
   "outputs": [
    {
     "name": "stdout",
     "output_type": "stream",
     "text": [
      "1 - no\n",
      "0\n"
     ]
    }
   ],
   "source": [
    "#Trying to understand the if and else statements. \n",
    "#Here it shows that if we have some if statement that equals 0 or\n",
    "#False, the answer will go to whatever is after the else statements.\n",
    "#If the condition is different from 0 or False, the answer will be\n",
    "#whatever is after the if statement.  \n",
    "\n",
    "some = 0\n",
    "if some:\n",
    "    print \"1-yes\"\n",
    "    print some\n",
    "else:\n",
    "    print \"1 - no\"\n",
    "    print some\n",
    "    "
   ]
  },
  {
   "cell_type": "code",
   "execution_count": 16,
   "metadata": {
    "collapsed": false
   },
   "outputs": [
    {
     "name": "stdout",
     "output_type": "stream",
     "text": [
      "2-yes\n",
      "10\n",
      "something\n"
     ]
    }
   ],
   "source": [
    "some1 = 10\n",
    "if some1:\n",
    "    print \"2-yes\"\n",
    "    print some1\n",
    "else:\n",
    "    print \"2-no\"\n",
    "    print some1\n",
    "print \"something\""
   ]
  },
  {
   "cell_type": "code",
   "execution_count": null,
   "metadata": {
    "collapsed": true
   },
   "outputs": [],
   "source": []
  }
 ],
 "metadata": {
  "anaconda-cloud": {},
  "kernelspec": {
   "display_name": "Python [conda root]",
   "language": "python",
   "name": "conda-root-py"
  },
  "language_info": {
   "codemirror_mode": {
    "name": "ipython",
    "version": 2
   },
   "file_extension": ".py",
   "mimetype": "text/x-python",
   "name": "python",
   "nbconvert_exporter": "python",
   "pygments_lexer": "ipython2",
   "version": "2.7.12"
  }
 },
 "nbformat": 4,
 "nbformat_minor": 2
}
